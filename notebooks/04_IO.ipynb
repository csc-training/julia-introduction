{
 "cells": [
  {
   "cell_type": "markdown",
   "metadata": {
    "slideshow": {
     "slide_type": "slide"
    }
   },
   "source": [
    "# I/O"
   ]
  },
  {
   "cell_type": "markdown",
   "metadata": {
    "slideshow": {
     "slide_type": "fragment"
    }
   },
   "source": [
    "## Topics\n",
    "- Strings and characters\n",
    "- text manipulation\n",
    "- working with text files"
   ]
  },
  {
   "cell_type": "markdown",
   "metadata": {
    "slideshow": {
     "slide_type": "slide"
    }
   },
   "source": [
    "## Strings and characters\n",
    "A string is a sequence of one or more characters, usually enclosed in double quotes:\n",
    "```julia\n",
    "\"this is a string\"\n",
    "```\n",
    "\n",
    "In some cases it might also be useful to use an equivalent triple double quotes\n",
    "```julia\n",
    "\"\"\"this is also a string, but it supports double quotes \"just\" like this.\"\"\"\"\n",
    "```\n",
    "\n",
    "Characters are enclosed in single quotes, i.e., `'a'`. Be aware that this is not the same as string of length 1!"
   ]
  },
  {
   "cell_type": "markdown",
   "metadata": {
    "slideshow": {
     "slide_type": "slide"
    }
   },
   "source": [
    "## Indexing strings\n",
    "If you want to extract characters from strings, you index into it"
   ]
  },
  {
   "cell_type": "code",
   "execution_count": 14,
   "metadata": {
    "slideshow": {
     "slide_type": "fragment"
    }
   },
   "outputs": [
    {
     "data": {
      "text/plain": [
       "'a': ASCII/Unicode U+0061 (category Ll: Letter, lowercase)"
      ]
     },
     "execution_count": 14,
     "metadata": {},
     "output_type": "execute_result"
    }
   ],
   "source": [
    "s = \"abcdefghijklmnopqrstuvwxyz\"\n",
    "s[1]"
   ]
  },
  {
   "cell_type": "markdown",
   "metadata": {
    "slideshow": {
     "slide_type": "fragment"
    }
   },
   "source": [
    "You can also extract a substring using range indexing"
   ]
  },
  {
   "cell_type": "code",
   "execution_count": 15,
   "metadata": {
    "slideshow": {
     "slide_type": "fragment"
    }
   },
   "outputs": [
    {
     "data": {
      "text/plain": [
       "\"abc\""
      ]
     },
     "execution_count": 15,
     "metadata": {},
     "output_type": "execute_result"
    }
   ],
   "source": [
    "s[1:3]"
   ]
  },
  {
   "cell_type": "markdown",
   "metadata": {
    "slideshow": {
     "slide_type": "fragment"
    }
   },
   "source": [
    "Note how `s[1]` and `s[1:1]` do not give the same result: first gives a character, the other a (sub)string!"
   ]
  },
  {
   "cell_type": "markdown",
   "metadata": {
    "slideshow": {
     "slide_type": "slide"
    }
   },
   "source": [
    "## String interpolation \n",
    "Often you want to use the results of Julia expressions inside strings. This can be done with the string interpolation machinery. Syntax is to use `$(x)` for the expression `x`. \n",
    "\n",
    "Note that for a simple variable it is enough to just use `$var` without the parentheses.\n",
    "\n",
    "Inverse conversion, i.e., from other types into a string type, is easily done using the `string()` function."
   ]
  },
  {
   "cell_type": "code",
   "execution_count": 2,
   "metadata": {
    "slideshow": {
     "slide_type": "fragment"
    }
   },
   "outputs": [
    {
     "data": {
      "text/plain": [
       "\"The value of x is 42\""
      ]
     },
     "execution_count": 2,
     "metadata": {},
     "output_type": "execute_result"
    }
   ],
   "source": [
    "x = 42\n",
    "\"The value of x is $x\""
   ]
  },
  {
   "cell_type": "code",
   "execution_count": 3,
   "metadata": {
    "slideshow": {
     "slide_type": "fragment"
    }
   },
   "outputs": [
    {
     "data": {
      "text/plain": [
       "\"The value of 2 + 2 is 4\""
      ]
     },
     "execution_count": 3,
     "metadata": {},
     "output_type": "execute_result"
    }
   ],
   "source": [
    "\"The value of 2 + 2 is $(2+2)\""
   ]
  },
  {
   "cell_type": "code",
   "execution_count": 6,
   "metadata": {
    "slideshow": {
     "slide_type": "fragment"
    }
   },
   "outputs": [
    {
     "data": {
      "text/plain": [
       "\"42\""
      ]
     },
     "execution_count": 6,
     "metadata": {},
     "output_type": "execute_result"
    }
   ],
   "source": [
    "string(x)"
   ]
  },
  {
   "cell_type": "markdown",
   "metadata": {
    "slideshow": {
     "slide_type": "slide"
    }
   },
   "source": [
    "## Splitting and joining strings\n",
    "You can stick together (a process often called *concatenation*) using multiply (`*`) operator"
   ]
  },
  {
   "cell_type": "code",
   "execution_count": 5,
   "metadata": {
    "slideshow": {
     "slide_type": "fragment"
    }
   },
   "outputs": [
    {
     "data": {
      "text/plain": [
       "\"first part second part!\""
      ]
     },
     "execution_count": 5,
     "metadata": {},
     "output_type": "execute_result"
    }
   ],
   "source": [
    "\"first part \" * \"second part!\""
   ]
  },
  {
   "cell_type": "markdown",
   "metadata": {
    "slideshow": {
     "slide_type": "fragment"
    }
   },
   "source": [
    "Note: you might be more familiar with using `+` sign that is used for concatenation in many other languages. \n",
    "\n",
    "Julia philosophy to select multiplication was, however, done because it makes *mathematically* more sense to express the \"sticking together\" as multiplication."
   ]
  },
  {
   "cell_type": "markdown",
   "metadata": {
    "slideshow": {
     "slide_type": "skip"
    }
   },
   "source": [
    "### Special addition for math nerds:\n",
    "While `*` may seem like a surprising choice to users of languages that provide `+` for string concatenation, this use of `*` has precedent in mathematics, particularly in abstract algebra.\n",
    "\n",
    "In mathematics, `+` usually denotes a commutative operation, where the order of the operands does not matter. An example of this is matrix addition, where `A + B == B + A` for any matrices `A` and `B` that have the same shape. In contrast, `*` typically denotes a noncommutative operation, where the order of the operands does matter. An example of this is matrix multiplication, where in general `A * B != B * A`. As with matrix multiplication, string concatenation is noncommutative: `greet * whom != whom * greet`. As such, `*` is a more natural choice for an infix string concatenation operator, consistent with common mathematical use."
   ]
  },
  {
   "cell_type": "markdown",
   "metadata": {
    "slideshow": {
     "slide_type": "slide"
    }
   },
   "source": [
    "## Specialized strings\n",
    "Sometimes strings come with a specialization, marked by a one or more characters immediately followed by the opening double quotes:\n",
    "- `r\" \"` indicates a regular expression\n",
    "- `v\" \"` indicates a version string\n",
    "- `raw\" \"` indicates a raw string literal (so no errors with `$`)\n",
    "\n",
    "Furthermore, some packages extend this feature even further. For example, the [LaTeXStrings](https://github.com/stevengj/LaTeXStrings.jl) supported by many plotting libraries uses \n",
    "```julia\n",
    "label = L\"This is a LaTeX string $\\sum_i x^2$\"\n",
    "```\n",
    "that supports full arsenal of mathematical symbols using the LaTeX syntax."
   ]
  },
  {
   "cell_type": "markdown",
   "metadata": {
    "slideshow": {
     "slide_type": "slide"
    }
   },
   "source": [
    "## Advanced: `printf()`\n",
    "If you are deeply attached to C-style `printf()` functionality, you'll be able to use a Julia macro for it (which are called by prefacing them with the `@` sign) by first issuing `using Printf`."
   ]
  },
  {
   "cell_type": "code",
   "execution_count": 2,
   "metadata": {
    "slideshow": {
     "slide_type": "fragment"
    }
   },
   "outputs": [
    {
     "name": "stdout",
     "output_type": "stream",
     "text": [
      "pi = 3.14159265358979311600"
     ]
    }
   ],
   "source": [
    "using Printf\n",
    "@printf(\"pi = %0.20f\", float(pi))"
   ]
  },
  {
   "cell_type": "markdown",
   "metadata": {
    "slideshow": {
     "slide_type": "fragment"
    }
   },
   "source": [
    "Or you can create another string using the `sprintf()` macro:"
   ]
  },
  {
   "cell_type": "code",
   "execution_count": 3,
   "metadata": {
    "slideshow": {
     "slide_type": "fragment"
    }
   },
   "outputs": [
    {
     "data": {
      "text/plain": [
       "\"pi = 3.14159265358979311600\""
      ]
     },
     "execution_count": 3,
     "metadata": {},
     "output_type": "execute_result"
    }
   ],
   "source": [
    "s = @sprintf(\"pi = %0.20f\", float(pi))"
   ]
  },
  {
   "cell_type": "markdown",
   "metadata": {
    "slideshow": {
     "slide_type": "skip"
    }
   },
   "source": [
    "## List of string manipulation functions\n",
    "There are lots of functions for testing and changing strings:\n",
    "\n",
    "- `length(str)` length of string\n",
    "- `sizeof(str)` length/size\n",
    "- `startswith(strA, strB)` does strA start with strB?\n",
    "- `endswith(strA, strB)` does strA end with strB?\n",
    "- `isascii(str)` is str ASCII?\n",
    "- `all(isdigit, str)` is str 0-9?\n",
    "- `all(ispunct, str)` does str consist of punctuation?\n",
    "- `all(isspace, str)` is str whitespace characters?\n",
    "- `all(isxdigit, str)` is str hexadecimal digits?\n",
    "- `uppercase(str)` return a copy of str converted to uppercase\n",
    "- `lowercase(str)` return a copy of str converted to lowercase\n",
    "- `titlecase(str)` return copy of str with the first character of each word converted to uppercase\n",
    "- `chop(str)` return a copy with the last character removed\n",
    "- `chomp(str)` return a copy with the last character removed only if it's a newline\n"
   ]
  },
  {
   "cell_type": "markdown",
   "metadata": {
    "slideshow": {
     "slide_type": "slide"
    }
   },
   "source": [
    "## Reading from files\n",
    "The standard approach for getting information from a text file is using the `open()`, `read()`, and `close()` functions."
   ]
  },
  {
   "cell_type": "markdown",
   "metadata": {
    "slideshow": {
     "slide_type": "slide"
    }
   },
   "source": [
    "### Open\n",
    "Let's see how they work in action. First we need to open the file. In Julia, a file can be opened in the following modes\n",
    "- `\"r\"`: reading\n",
    "- `\"w\"`: writing (destroys everything in file)\n",
    "- `\"a\"`: appending (appends to the end of the file)\n",
    "\n",
    "Let's open a file in a folder `data/` called `poem.txt`. The syntax is \n",
    "```julia\n",
    "open(filename, mode)\n",
    "```"
   ]
  },
  {
   "cell_type": "code",
   "execution_count": 4,
   "metadata": {
    "slideshow": {
     "slide_type": "fragment"
    }
   },
   "outputs": [
    {
     "data": {
      "text/plain": [
       "IOStream(<file ../data/poem.txt>)"
      ]
     },
     "execution_count": 4,
     "metadata": {},
     "output_type": "execute_result"
    }
   ],
   "source": [
    "f = open(\"../data/poem.txt\", \"r\")"
   ]
  },
  {
   "cell_type": "markdown",
   "metadata": {
    "slideshow": {
     "slide_type": "slide"
    }
   },
   "source": [
    "### Read\n",
    "Then, we can read the content with a specific function made for this, `readline()`. Let's also remember to close the stream once we are done."
   ]
  },
  {
   "cell_type": "code",
   "execution_count": 5,
   "metadata": {
    "slideshow": {
     "slide_type": "fragment"
    }
   },
   "outputs": [],
   "source": [
    "lines = readlines(f)\n",
    "close(f)"
   ]
  },
  {
   "cell_type": "markdown",
   "metadata": {
    "slideshow": {
     "slide_type": "fragment"
    }
   },
   "source": [
    "Now the content is inside a vector of strings called `lines`.\n",
    "\n",
    "Alternatively, we could have used `eachline()` function that turns a source into an iterator. This allows to process a file a line at a time:"
   ]
  },
  {
   "cell_type": "code",
   "execution_count": null,
   "metadata": {
    "slideshow": {
     "slide_type": "fragment"
    }
   },
   "outputs": [],
   "source": [
    "open(\"../data/poem.txt\") do f\n",
    "    for line in eachline(f)\n",
    "        println(line)\n",
    "    end\n",
    "end"
   ]
  },
  {
   "cell_type": "markdown",
   "metadata": {
    "slideshow": {
     "slide_type": "skip"
    }
   },
   "source": [
    "Note: I am sorry all literature enthusiastics, this was the only short poem having a word \"julia\" in it that I could find."
   ]
  },
  {
   "cell_type": "markdown",
   "metadata": {
    "slideshow": {
     "slide_type": "slide"
    }
   },
   "source": [
    "### Writing\n",
    "Writing a file, is a similar process. Instead of printing into the screen, we can provide an open file handle to our printing function:"
   ]
  },
  {
   "cell_type": "code",
   "execution_count": 7,
   "metadata": {
    "slideshow": {
     "slide_type": "fragment"
    }
   },
   "outputs": [],
   "source": [
    "open(\"../data/example.txt\", \"w\") do f\n",
    "    println(f, \"My very own line of text.\")\n",
    "end"
   ]
  },
  {
   "cell_type": "markdown",
   "metadata": {
    "slideshow": {
     "slide_type": "slide"
    }
   },
   "source": [
    "## Writing and reading array to and from a file\n",
    "In real life, this is typically not how stuff is done. There is a much easier way via `using DelimitedFiles`!\n",
    "\n",
    "In many cases, we are reading data that is in some fixed array format. Most common is the CSV (Comma Separated Value) format. Julia provides us with a convenient set of functions to handle these kind of data formats with read and write delimited data, or `readdlm()` and `writedlm()`.\n",
    "\n",
    "Syntax is \n",
    "```julia\n",
    "readdlm(filename, delimiter)\n",
    "```\n",
    "and\n",
    "```julia\n",
    "writedlm(filename, array, delimiter)\n",
    "```\n",
    "If the `delimiter` (i.e., `','` for CSV) is omitted, a TAB is used by default."
   ]
  },
  {
   "cell_type": "code",
   "execution_count": 8,
   "metadata": {
    "slideshow": {
     "slide_type": "slide"
    }
   },
   "outputs": [
    {
     "data": {
      "text/plain": [
       "3×5 Array{Float64,2}:\n",
       " 0.568929  0.575358  0.789489  0.699436  0.64208 \n",
       " 0.990878  0.253297  0.653797  0.277166  0.680533\n",
       " 0.288649  0.250189  0.9892    0.213586  0.740666"
      ]
     },
     "execution_count": 8,
     "metadata": {},
     "output_type": "execute_result"
    }
   ],
   "source": [
    "arr = rand(3,5)"
   ]
  },
  {
   "cell_type": "code",
   "execution_count": 10,
   "metadata": {
    "slideshow": {
     "slide_type": "fragment"
    }
   },
   "outputs": [],
   "source": [
    "using DelimitedFiles\n",
    "writedlm(\"../data/my_arr.txt\", arr, ',')"
   ]
  },
  {
   "cell_type": "code",
   "execution_count": 11,
   "metadata": {
    "slideshow": {
     "slide_type": "fragment"
    }
   },
   "outputs": [
    {
     "data": {
      "text/plain": [
       "3×5 Array{Float64,2}:\n",
       " 0.568929  0.575358  0.789489  0.699436  0.64208 \n",
       " 0.990878  0.253297  0.653797  0.277166  0.680533\n",
       " 0.288649  0.250189  0.9892    0.213586  0.740666"
      ]
     },
     "execution_count": 11,
     "metadata": {},
     "output_type": "execute_result"
    }
   ],
   "source": [
    "arr2 = readdlm(\"../data/my_arr.txt\", ',')"
   ]
  },
  {
   "cell_type": "markdown",
   "metadata": {
    "slideshow": {
     "slide_type": "skip"
    }
   },
   "source": [
    "## Advanced: Regular expressions\n",
    "Julia has Perl-compatible regular expressions (regexes), as provided by the [PCRE](http://www.pcre.org/) library. Regular expressions are used to find regular patterns in strings. "
   ]
  },
  {
   "cell_type": "code",
   "execution_count": 12,
   "metadata": {
    "slideshow": {
     "slide_type": "skip"
    }
   },
   "outputs": [
    {
     "data": {
      "text/plain": [
       "r\"^\\s*(?:#|$)\""
      ]
     },
     "execution_count": 12,
     "metadata": {},
     "output_type": "execute_result"
    }
   ],
   "source": [
    "r = r\"^\\s*(?:#|$)\""
   ]
  },
  {
   "cell_type": "code",
   "execution_count": 13,
   "metadata": {
    "slideshow": {
     "slide_type": "skip"
    }
   },
   "outputs": [
    {
     "data": {
      "text/plain": [
       "Regex"
      ]
     },
     "execution_count": 13,
     "metadata": {},
     "output_type": "execute_result"
    }
   ],
   "source": [
    "typeof(r)"
   ]
  },
  {
   "cell_type": "markdown",
   "metadata": {
    "slideshow": {
     "slide_type": "skip"
    }
   },
   "source": [
    "To check if a regex matches a string, use `match()`. Note that it returns nothing if nothing is found."
   ]
  },
  {
   "cell_type": "code",
   "execution_count": 16,
   "metadata": {
    "slideshow": {
     "slide_type": "skip"
    }
   },
   "outputs": [],
   "source": [
    "match(r\"^\\s*(?:#|$)\", \"not a comment\")"
   ]
  },
  {
   "cell_type": "code",
   "execution_count": 17,
   "metadata": {
    "slideshow": {
     "slide_type": "skip"
    }
   },
   "outputs": [
    {
     "data": {
      "text/plain": [
       "RegexMatch(\"#\")"
      ]
     },
     "execution_count": 17,
     "metadata": {},
     "output_type": "execute_result"
    }
   ],
   "source": [
    "match(r\"^\\s*(?:#|$)\", \"# a comment\")"
   ]
  },
  {
   "cell_type": "markdown",
   "metadata": {
    "slideshow": {
     "slide_type": "skip"
    }
   },
   "source": [
    "For more, see the docs about [Regular Expressions](https://docs.julialang.org/en/v1/manual/strings/#Regular-Expressions-1)"
   ]
  },
  {
   "cell_type": "code",
   "execution_count": null,
   "metadata": {},
   "outputs": [],
   "source": []
  }
 ],
 "metadata": {
  "celltoolbar": "Slideshow",
  "kernelspec": {
   "display_name": "Julia 1.0.3",
   "language": "julia",
   "name": "julia-1.0"
  },
  "language_info": {
   "file_extension": ".jl",
   "mimetype": "application/julia",
   "name": "julia",
   "version": "1.0.3"
  }
 },
 "nbformat": 4,
 "nbformat_minor": 2
}
