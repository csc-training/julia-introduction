{
 "cells": [
  {
   "cell_type": "markdown",
   "metadata": {
    "slideshow": {
     "slide_type": "slide"
    }
   },
   "source": [
    "# Performance tips"
   ]
  },
  {
   "cell_type": "markdown",
   "metadata": {
    "slideshow": {
     "slide_type": "fragment"
    }
   },
   "source": [
    "## Topics\n",
    "- Why Julia is fast\n",
    "- LLVM compiler\n",
    "- Parallellization"
   ]
  },
  {
   "cell_type": "markdown",
   "metadata": {
    "slideshow": {
     "slide_type": "slide"
    }
   },
   "source": [
    "## Why is Julia fast?\n",
    "- Rich type information, provided naturally by multiple dispatch\n",
    "- Aggressive code specialization against run-time types\n",
    "- JIT compilation using the LLVM compiler framework\n",
    "\n",
    "In short, Julia is designated from the beginning to be fast. Not vice versa.\n",
    "\n",
    "See the [scientific paper](https://arxiv.org/pdf/1209.5145v1.pdf) behind Julia, if you want to learn more."
   ]
  },
  {
   "cell_type": "markdown",
   "metadata": {
    "slideshow": {
     "slide_type": "slide"
    }
   },
   "source": [
    "## Levels of parallelism\n",
    "1. Instruction level parallelism\n",
    "2. Vector instructions (see `Bonus_simd-vectorization.pynb` if you are interested)\n",
    "3. **Threading** (shared-memory)\n",
    "4. **Distributed**\n",
    "5. Accelerators (e.g., GPGPU; *not covered here*)"
   ]
  },
  {
   "cell_type": "markdown",
   "metadata": {
    "slideshow": {
     "slide_type": "slide"
    }
   },
   "source": [
    "## Advanced: A (very short) introduction to the interiors of Julia compiler\n",
    "\n",
    "Let's stop treating our tools like blackboxes. Let's see what the compiler herself is thinking about our code with `using InteractiveUtils`.\n",
    "\n",
    "1. `@code_lowered`\n",
    "2. `@code_typed` and `@code_warntype`\n",
    "3. `@code_llvm`\n",
    "4. `@code_native`\n",
    "\n",
    "See [slides](https://slides.com/valentinchuravy/julia-parallelism) by Valentin Churavy, for more."
   ]
  },
  {
   "cell_type": "code",
   "execution_count": null,
   "metadata": {
    "slideshow": {
     "slide_type": "slide"
    }
   },
   "outputs": [],
   "source": [
    "function mysum(A)\n",
    "    acc = zero(eltype(A))\n",
    "    for a in A\n",
    "        acc += a\n",
    "    end\n",
    "    return acc\n",
    "end"
   ]
  },
  {
   "cell_type": "code",
   "execution_count": 2,
   "metadata": {
    "slideshow": {
     "slide_type": "skip"
    }
   },
   "outputs": [],
   "source": [
    "using InteractiveUtils"
   ]
  },
  {
   "cell_type": "code",
   "execution_count": 3,
   "metadata": {
    "slideshow": {
     "slide_type": "slide"
    }
   },
   "outputs": [
    {
     "data": {
      "text/plain": [
       "CodeInfo(\n",
       "\u001b[90m\u001b[77G│\u001b[1G\u001b[39m\u001b[90m2 \u001b[39m1 ─ %1  = (Main.eltype)(A)\n",
       "\u001b[90m\u001b[77G│\u001b[1G\u001b[39m\u001b[90m  \u001b[39m│         acc = (Main.zero)(%1)\n",
       "\u001b[90m\u001b[77G│\u001b[1G\u001b[39m\u001b[90m3 \u001b[39m│   %3  = A\n",
       "\u001b[90m\u001b[77G│\u001b[1G\u001b[39m\u001b[90m  \u001b[39m│         #temp# = (Base.iterate)(%3)\n",
       "\u001b[90m\u001b[77G│\u001b[1G\u001b[39m\u001b[90m  \u001b[39m│   %5  = #temp# === nothing\n",
       "\u001b[90m\u001b[77G│\u001b[1G\u001b[39m\u001b[90m  \u001b[39m│   %6  = (Base.not_int)(%5)\n",
       "\u001b[90m\u001b[77G│\u001b[1G\u001b[39m\u001b[90m  \u001b[39m└──       goto #4 if not %6\n",
       "\u001b[90m\u001b[77G│\u001b[1G\u001b[39m\u001b[90m  \u001b[39m2 ┄ %8  = #temp#\n",
       "\u001b[90m\u001b[77G│\u001b[1G\u001b[39m\u001b[90m  \u001b[39m│         a = (Core.getfield)(%8, 1)\n",
       "\u001b[90m\u001b[77G│\u001b[1G\u001b[39m\u001b[90m  \u001b[39m│   %10 = (Core.getfield)(%8, 2)\n",
       "\u001b[90m\u001b[77G│\u001b[1G\u001b[39m\u001b[90m4 \u001b[39m│         acc = acc + a\n",
       "\u001b[90m\u001b[77G│\u001b[1G\u001b[39m\u001b[90m  \u001b[39m│         #temp# = (Base.iterate)(%3, %10)\n",
       "\u001b[90m\u001b[77G│\u001b[1G\u001b[39m\u001b[90m  \u001b[39m│   %13 = #temp# === nothing\n",
       "\u001b[90m\u001b[77G│\u001b[1G\u001b[39m\u001b[90m  \u001b[39m│   %14 = (Base.not_int)(%13)\n",
       "\u001b[90m\u001b[77G│\u001b[1G\u001b[39m\u001b[90m  \u001b[39m└──       goto #4 if not %14\n",
       "\u001b[90m\u001b[77G│\u001b[1G\u001b[39m\u001b[90m  \u001b[39m3 ─       goto #2\n",
       "\u001b[90m\u001b[77G│\u001b[1G\u001b[39m\u001b[90m6 \u001b[39m4 ─       return acc\n",
       ")"
      ]
     },
     "execution_count": 3,
     "metadata": {},
     "output_type": "execute_result"
    }
   ],
   "source": [
    "@code_lowered mysum(ones(1))"
   ]
  },
  {
   "cell_type": "code",
   "execution_count": 5,
   "metadata": {
    "slideshow": {
     "slide_type": "slide"
    }
   },
   "outputs": [
    {
     "data": {
      "text/plain": [
       "CodeInfo(\n",
       "\u001b[90m\u001b[58G│╻╷╷  iterate\u001b[1G\u001b[39m\u001b[90m3 \u001b[39m1 ── %1  = (Base.arraylen)(A)\u001b[36m::Int64\u001b[39m\n",
       "\u001b[90m\u001b[58G││╻╷   iterate\u001b[1G\u001b[39m\u001b[90m  \u001b[39m│    %2  = (Base.sle_int)(0, %1)\u001b[36m::Bool\u001b[39m\n",
       "\u001b[90m\u001b[58G│││╻    <\u001b[1G\u001b[39m\u001b[90m  \u001b[39m│    %3  = (Base.bitcast)(UInt64, %1)\u001b[36m::UInt64\u001b[39m\n",
       "\u001b[90m\u001b[58G││││╻    <\u001b[1G\u001b[39m\u001b[90m  \u001b[39m│    %4  = (Base.ult_int)(0x0000000000000000, %3)\u001b[36m::Bool\u001b[39m\n",
       "\u001b[90m\u001b[58G││││╻    &\u001b[1G\u001b[39m\u001b[90m  \u001b[39m│    %5  = (Base.and_int)(%2, %4)\u001b[36m::Bool\u001b[39m\n",
       "\u001b[90m\u001b[58G│││  \u001b[1G\u001b[39m\u001b[90m  \u001b[39m└───       goto #3 if not %5\n",
       "\u001b[90m\u001b[58G│││╻    getindex\u001b[1G\u001b[39m\u001b[90m  \u001b[39m2 ── %7  = (Base.arrayref)(false, A, 1)\u001b[36m::Float64\u001b[39m\n",
       "\u001b[90m\u001b[58G│││  \u001b[1G\u001b[39m\u001b[90m  \u001b[39m└───       goto #4\n",
       "\u001b[90m\u001b[58G│││  \u001b[1G\u001b[39m\u001b[90m  \u001b[39m3 ──       goto #4\n",
       "\u001b[90m\u001b[58G││   \u001b[1G\u001b[39m\u001b[90m  \u001b[39m4 ┄─ %10 = φ (#2 => false, #3 => true)\u001b[36m::Bool\u001b[39m\n",
       "\u001b[90m\u001b[58G││   \u001b[1G\u001b[39m\u001b[90m  \u001b[39m│    %11 = φ (#2 => %7)\u001b[36m::Float64\u001b[39m\n",
       "\u001b[90m\u001b[58G││   \u001b[1G\u001b[39m\u001b[90m  \u001b[39m│    %12 = φ (#2 => 2)\u001b[36m::Int64\u001b[39m\n",
       "\u001b[90m\u001b[58G││   \u001b[1G\u001b[39m\u001b[90m  \u001b[39m└───       goto #5\n",
       "\u001b[90m\u001b[58G│    \u001b[1G\u001b[39m\u001b[90m  \u001b[39m5 ── %14 = (Base.not_int)(%10)\u001b[36m::Bool\u001b[39m\n",
       "\u001b[90m\u001b[58G│    \u001b[1G\u001b[39m\u001b[90m  \u001b[39m└───       goto #11 if not %14\n",
       "\u001b[90m\u001b[58G│    \u001b[1G\u001b[39m\u001b[90m  \u001b[39m6 ┄─ %16 = φ (#5 => 0.0, #10 => %19)\u001b[36m::Float64\u001b[39m\n",
       "\u001b[90m\u001b[58G│    \u001b[1G\u001b[39m\u001b[90m  \u001b[39m│    %17 = φ (#5 => %11, #10 => %33)\u001b[36m::Float64\u001b[39m\n",
       "\u001b[90m\u001b[58G│    \u001b[1G\u001b[39m\u001b[90m  \u001b[39m│    %18 = φ (#5 => %12, #10 => %34)\u001b[36m::Int64\u001b[39m\n",
       "\u001b[90m\u001b[58G│╻    +\u001b[1G\u001b[39m\u001b[90m4 \u001b[39m│    %19 = (Base.add_float)(%16, %17)\u001b[36m::Float64\u001b[39m\n",
       "\u001b[90m\u001b[58G││╻    rem\u001b[1G\u001b[39m\u001b[90m  \u001b[39m│    %20 = (Base.bitcast)(UInt64, %18)\u001b[36m::UInt64\u001b[39m\n",
       "\u001b[90m\u001b[58G││╻    -\u001b[1G\u001b[39m\u001b[90m  \u001b[39m│    %21 = π (0x0000000000000001, \u001b[36mUInt64\u001b[39m)\n",
       "\u001b[90m\u001b[58G│││╻    -\u001b[1G\u001b[39m\u001b[90m  \u001b[39m│    %22 = (Base.sub_int)(%20, %21)\u001b[36m::UInt64\u001b[39m\n",
       "\u001b[90m\u001b[58G││╻    length\u001b[1G\u001b[39m\u001b[90m  \u001b[39m│    %23 = (Base.arraylen)(A)\u001b[36m::Int64\u001b[39m\n",
       "\u001b[90m\u001b[58G│││╻╷   >=\u001b[1G\u001b[39m\u001b[90m  \u001b[39m│    %24 = (Base.sle_int)(0, %23)\u001b[36m::Bool\u001b[39m\n",
       "\u001b[90m\u001b[58G││││╻    reinterpret\u001b[1G\u001b[39m\u001b[90m  \u001b[39m│    %25 = (Base.bitcast)(UInt64, %23)\u001b[36m::UInt64\u001b[39m\n",
       "\u001b[90m\u001b[58G│││╻    <\u001b[1G\u001b[39m\u001b[90m  \u001b[39m│    %26 = (Base.ult_int)(%22, %25)\u001b[36m::Bool\u001b[39m\n",
       "\u001b[90m\u001b[58G│││╻    &\u001b[1G\u001b[39m\u001b[90m  \u001b[39m│    %27 = (Base.and_int)(%24, %26)\u001b[36m::Bool\u001b[39m\n",
       "\u001b[90m\u001b[58G││   \u001b[1G\u001b[39m\u001b[90m  \u001b[39m└───       goto #8 if not %27\n",
       "\u001b[90m\u001b[58G││╻    getindex\u001b[1G\u001b[39m\u001b[90m  \u001b[39m7 ── %29 = (Base.arrayref)(false, A, %18)\u001b[36m::Float64\u001b[39m\n",
       "\u001b[90m\u001b[58G││╻    +\u001b[1G\u001b[39m\u001b[90m  \u001b[39m│    %30 = (Base.add_int)(%18, 1)\u001b[36m::Int64\u001b[39m\n",
       "\u001b[90m\u001b[58G││   \u001b[1G\u001b[39m\u001b[90m  \u001b[39m└───       goto #9\n",
       "\u001b[90m\u001b[58G││   \u001b[1G\u001b[39m\u001b[90m  \u001b[39m8 ──       goto #9\n",
       "\u001b[90m\u001b[58G│    \u001b[1G\u001b[39m\u001b[90m  \u001b[39m9 ┄─ %33 = φ (#7 => %29)\u001b[36m::Float64\u001b[39m\n",
       "\u001b[90m\u001b[58G│    \u001b[1G\u001b[39m\u001b[90m  \u001b[39m│    %34 = φ (#7 => %30)\u001b[36m::Int64\u001b[39m\n",
       "\u001b[90m\u001b[58G│    \u001b[1G\u001b[39m\u001b[90m  \u001b[39m│    %35 = φ (#7 => false, #8 => true)\u001b[36m::Bool\u001b[39m\n",
       "\u001b[90m\u001b[58G│    \u001b[1G\u001b[39m\u001b[90m  \u001b[39m│    %36 = (Base.not_int)(%35)\u001b[36m::Bool\u001b[39m\n",
       "\u001b[90m\u001b[58G│    \u001b[1G\u001b[39m\u001b[90m  \u001b[39m└───       goto #11 if not %36\n",
       "\u001b[90m\u001b[58G│    \u001b[1G\u001b[39m\u001b[90m  \u001b[39m10 ─       goto #6\n",
       "\u001b[90m\u001b[58G│    \u001b[1G\u001b[39m\u001b[90m6 \u001b[39m11 ─ %39 = φ (#9 => %19, #5 => 0.0)\u001b[36m::Float64\u001b[39m\n",
       "\u001b[90m\u001b[58G│    \u001b[1G\u001b[39m\u001b[90m  \u001b[39m└───       return %39\n",
       ") => Float64"
      ]
     },
     "execution_count": 5,
     "metadata": {},
     "output_type": "execute_result"
    }
   ],
   "source": [
    "@code_typed mysum(ones(1))"
   ]
  },
  {
   "cell_type": "code",
   "execution_count": 21,
   "metadata": {
    "slideshow": {
     "slide_type": "skip"
    }
   },
   "outputs": [
    {
     "name": "stdout",
     "output_type": "stream",
     "text": [
      "\n",
      "; Function mysum\n",
      "; Location: In[1]:2\n",
      "define double @julia_mysum_35863(%jl_value_t addrspace(10)* nonnull align 16 dereferenceable(40)) {\n",
      "top:\n",
      "; Location: In[1]:3\n",
      "; Function iterate; {\n",
      "; Location: array.jl:707\n",
      "; Function iterate; {\n",
      "; Location: array.jl:707\n",
      "; Function length; {\n",
      "; Location: array.jl:199\n",
      "  %1 = addrspacecast %jl_value_t addrspace(10)* %0 to %jl_value_t addrspace(11)*\n",
      "  %2 = bitcast %jl_value_t addrspace(11)* %1 to %jl_array_t addrspace(11)*\n",
      "  %3 = getelementptr inbounds %jl_array_t, %jl_array_t addrspace(11)* %2, i64 0, i32 1\n",
      "  %4 = load i64, i64 addrspace(11)* %3, align 8\n",
      ";}\n",
      "  %5 = icmp slt i64 %4, 1\n",
      "  br i1 %5, label %L39, label %L14.L16_crit_edge\n",
      "\n",
      "L14.L16_crit_edge:                                ; preds = %top\n",
      "; Function getindex; {\n",
      "; Location: array.jl:731\n",
      "  %6 = bitcast %jl_value_t addrspace(11)* %1 to double addrspace(13)* addrspace(11)*\n",
      "  %7 = load double addrspace(13)*, double addrspace(13)* addrspace(11)* %6, align 8\n",
      "  %value_phi413 = load double, double addrspace(13)* %7, align 8\n",
      ";}}}\n",
      "; Location: In[1]:4\n",
      "; Function +; {\n",
      "; Location: float.jl:395\n",
      "  %8 = fadd double %value_phi413, 0.000000e+00\n",
      ";}\n",
      "; Function iterate; {\n",
      "; Location: array.jl:707\n",
      "; Function <; {\n",
      "; Location: int.jl:434\n",
      "; Function <; {\n",
      "; Location: int.jl:427\n",
      "  %9 = icmp eq i64 %4, 1\n",
      ";}}\n",
      "  br i1 %9, label %L39, label %L38.lr.ph.L38.lr.ph.split_crit_edge\n",
      "\n",
      "L38.lr.ph.L38.lr.ph.split_crit_edge:              ; preds = %L14.L16_crit_edge\n",
      "  br label %L38\n",
      "\n",
      "L38:                                              ; preds = %L38, %L38.lr.ph.L38.lr.ph.split_crit_edge\n",
      "  %10 = phi i64 [ 1, %L38.lr.ph.L38.lr.ph.split_crit_edge ], [ %value_phi514, %L38 ]\n",
      "  %11 = phi double [ %8, %L38.lr.ph.L38.lr.ph.split_crit_edge ], [ %14, %L38 ]\n",
      "  %value_phi514 = phi i64 [ 2, %L38.lr.ph.L38.lr.ph.split_crit_edge ], [ %13, %L38 ]\n",
      "; Function getindex; {\n",
      "; Location: array.jl:731\n",
      "  %12 = getelementptr inbounds double, double addrspace(13)* %7, i64 %10\n",
      ";}\n",
      "; Function +; {\n",
      "; Location: int.jl:53\n",
      "  %13 = add i64 %value_phi514, 1\n",
      ";}}\n",
      "; Location: In[1]:3\n",
      "; Function iterate; {\n",
      "; Location: array.jl:707\n",
      "; Function iterate; {\n",
      "; Location: array.jl:707\n",
      "; Function getindex; {\n",
      "; Location: array.jl:731\n",
      "  %value_phi4 = load double, double addrspace(13)* %12, align 8\n",
      ";}}}\n",
      "; Location: In[1]:4\n",
      "; Function +; {\n",
      "; Location: float.jl:395\n",
      "  %14 = fadd double %11, %value_phi4\n",
      ";}\n",
      "; Function iterate; {\n",
      "; Location: array.jl:707\n",
      "; Function <; {\n",
      "; Location: int.jl:434\n",
      "; Function <; {\n",
      "; Location: int.jl:427\n",
      "  %15 = icmp ult i64 %value_phi514, %4\n",
      ";}}\n",
      "  br i1 %15, label %L38, label %L39\n",
      "\n",
      "L39:                                              ; preds = %L38, %L14.L16_crit_edge, %top\n",
      "  %value_phi9 = phi double [ 0.000000e+00, %top ], [ %8, %L14.L16_crit_edge ], [ %14, %L38 ]\n",
      ";}\n",
      "; Location: In[1]:6\n",
      "  ret double %value_phi9\n",
      "}\n"
     ]
    }
   ],
   "source": [
    "@code_llvm mysum(ones(1))"
   ]
  },
  {
   "cell_type": "code",
   "execution_count": 7,
   "metadata": {
    "slideshow": {
     "slide_type": "slide"
    }
   },
   "outputs": [
    {
     "name": "stdout",
     "output_type": "stream",
     "text": [
      "\t.section\t__TEXT,__text,regular,pure_instructions\n",
      "; Function mysum {\n",
      "; Location: In[1]:3\n",
      "; Function iterate; {\n",
      "; Location: array.jl:707\n",
      "; Function iterate; {\n",
      "; Location: array.jl:707\n",
      "; Function length; {\n",
      "; Location: In[1]:2\n",
      "\tdecl\t%eax\n",
      "\tmovl\t8(%edi), %eax\n",
      ";}\n",
      "\tdecl\t%eax\n",
      "\ttestl\t%eax, %eax\n",
      "\tjle\tL47\n",
      "; Function getindex; {\n",
      "; Location: array.jl:731\n",
      "\tdecl\t%eax\n",
      "\tmovl\t(%edi), %ecx\n",
      ";}}}\n",
      "; Location: In[1]:4\n",
      "; Function +; {\n",
      "; Location: float.jl:395\n",
      "\tvxorpd\t%xmm0, %xmm0, %xmm0\n",
      "\tvaddsd\t(%ecx), %xmm0, %xmm0\n",
      ";}\n",
      "; Function iterate; {\n",
      "; Location: array.jl:707\n",
      "; Function <; {\n",
      "; Location: int.jl:434\n",
      "; Function <; {\n",
      "; Location: int.jl:427\n",
      "\tdecl\t%eax\n",
      "\tcmpl\t$1, %eax\n",
      ";}}\n",
      "\tje\tL46\n",
      ";}}\n",
      "; Function mysum {\n",
      "; Location: array.jl\n",
      "\tmovl\t$1, %edx\n",
      "\tnop\n",
      ";}\n",
      "; Function mysum {\n",
      "; Location: In[1]:4\n",
      "; Function +; {\n",
      "; Location: float.jl:395\n",
      "L32:\n",
      "\tvaddsd\t(%ecx,%edx,8), %xmm0, %xmm0\n",
      ";}\n",
      "; Function iterate; {\n",
      "; Location: array.jl:707\n",
      "; Function <; {\n",
      "; Location: int.jl:434\n",
      "; Function <; {\n",
      "; Location: int.jl:427\n",
      "\tdecl\t%eax\n",
      "\taddl\t$1, %edx\n",
      "\tdecl\t%eax\n",
      "\tcmpl\t%eax, %edx\n",
      ";}}\n",
      "\tjb\tL32\n",
      ";}\n",
      "; Location: In[1]:6\n",
      "L46:\n",
      "\tretl\n",
      "L47:\n",
      "\tvxorps\t%xmm0, %xmm0, %xmm0\n",
      "; Location: In[1]:6\n",
      "\tretl\n",
      "\tnopw\t%cs:(%eax,%eax)\n",
      ";}\n"
     ]
    }
   ],
   "source": [
    "@code_native mysum(ones(1))"
   ]
  },
  {
   "cell_type": "markdown",
   "metadata": {
    "slideshow": {
     "slide_type": "slide"
    }
   },
   "source": [
    "## About global scope\n",
    "So what does the previous machine code actually mean? Well, in practise:\n",
    "\n",
    "A global variable might have its value, and therefore its type, change at any given point. This makes it difficult/nigh impossible for the compiler to reason about/optimize code using global variables.\n",
    "\n",
    "Julia uses functions as its compilation unit and any code that is performance critical or being benchmarked should be inside a function."
   ]
  },
  {
   "cell_type": "markdown",
   "metadata": {
    "slideshow": {
     "slide_type": "slide"
    }
   },
   "source": [
    "## Demo: Giving hints to the compiler \n",
    "Let's see what we can do with our previously defined `laplacian` function. \n",
    "\n",
    "For some aggressive cases we can provide the JIT-compiler `@inbounds` macro hinting that there is no need to check array bounds."
   ]
  },
  {
   "cell_type": "code",
   "execution_count": 8,
   "metadata": {
    "slideshow": {
     "slide_type": "skip"
    }
   },
   "outputs": [
    {
     "data": {
      "text/plain": [
       "laplacian_good (generic function with 1 method)"
      ]
     },
     "execution_count": 8,
     "metadata": {},
     "output_type": "execute_result"
    }
   ],
   "source": [
    "#Lets re-define our previous Laplacians (from 05_ notebook)\n",
    "function laplacian_bad(lap_x::Array{Float64,2}, x::Array{Float64,2})\n",
    "    nr,nc = size(x)\n",
    "    for ir = 2:nr-1, ic = 2:nc-1 # bad loop nesting order\n",
    "        lap_x[ir,ic] =\n",
    "            (x[ir+1,ic] + x[ir-1,ic] +\n",
    "            x[ir,ic+1] + x[ir,ic-1]) - 4*x[ir,ic]\n",
    "    end\n",
    "end\n",
    "\n",
    "#In this version, the two loops are nested properly:\n",
    "function laplacian_good(lap_x::Array{Float64,2}, x::Array{Float64,2})\n",
    "    nr,nc = size(x)\n",
    "    for ic = 2:nc-1, ir = 2:nr-1 # good loop nesting order\n",
    "        lap_x[ir,ic] =\n",
    "            (x[ir+1,ic] + x[ir-1,ic] +\n",
    "            x[ir,ic+1] + x[ir,ic-1]) - 4*x[ir,ic]\n",
    "    end\n",
    "end"
   ]
  },
  {
   "cell_type": "code",
   "execution_count": 9,
   "metadata": {
    "slideshow": {
     "slide_type": "fragment"
    }
   },
   "outputs": [
    {
     "data": {
      "text/plain": [
       "laplacian_good_nocheck (generic function with 1 method)"
      ]
     },
     "execution_count": 9,
     "metadata": {},
     "output_type": "execute_result"
    }
   ],
   "source": [
    "# A way to increase the speed is to remove the array bounds checking, using the macro @inbounds:\n",
    "function laplacian_good_nocheck(lap_x::Array{Float64,2}, x::Array{Float64,2})\n",
    "    nr,nc = size(x)\n",
    "    for ic = 2:nc-1\n",
    "        for ir = 2:nr-1 # good loop nesting order\n",
    "            @inbounds begin lap_x[ir,ic] = # no array bounds checking\n",
    "                (x[ir+1,ic] +  x[ir-1,ic] +\n",
    "                x[ir,ic+1] + x[ir,ic-1]) - 4*x[ir,ic]\n",
    "            end\n",
    "        end\n",
    "    end\n",
    "end"
   ]
  },
  {
   "cell_type": "code",
   "execution_count": 11,
   "metadata": {
    "slideshow": {
     "slide_type": "skip"
    }
   },
   "outputs": [],
   "source": [
    "using Printf #evaluate me to get printf"
   ]
  },
  {
   "cell_type": "code",
   "execution_count": 12,
   "metadata": {
    "slideshow": {
     "slide_type": "slide"
    }
   },
   "outputs": [
    {
     "name": "stdout",
     "output_type": "stream",
     "text": [
      "laplacian_bad:          2.631 s\n",
      "laplacian_good:         0.235 s\n",
      "laplacian_good_nocheck: 0.130 s\n"
     ]
    }
   ],
   "source": [
    "function main_test(nr, nc)\n",
    "    field = zeros(nr, nc)\n",
    "    for ic = 1:nc, ir = 1:nr\n",
    "        if ir == 1 || ic == 1 || ir == nr || ic == nc\n",
    "            field[ir,ic] = 1.0\n",
    "        end\n",
    "    end\n",
    "    lap_field = zeros(size(field))\n",
    "\n",
    "    time = @elapsed laplacian_bad(lap_field, field)\n",
    "    @printf \"laplacian_bad:          %.3f s\\n\" time\n",
    "    \n",
    "    time = @elapsed laplacian_good(lap_field, field)\n",
    "    @printf \"laplacian_good:         %.3f s\\n\" time\n",
    "    \n",
    "    time = @elapsed laplacian_good_nocheck(lap_field, field)\n",
    "    @printf \"laplacian_good_nocheck: %.3f s\\n\" time\n",
    "end\n",
    "\n",
    "main_test(10^4, 10^4)"
   ]
  },
  {
   "cell_type": "markdown",
   "metadata": {
    "slideshow": {
     "slide_type": "slide"
    }
   },
   "source": [
    "## Threading (experimental)\n",
    "Julia threading model is based on a fork-join approach and is still considered experimental.\n",
    "\n",
    "Fork-join describes the control flow that a group of threads undergoes. Execution is then forked and an anonymous function is ran across all threads.\n",
    "\n",
    "All threads have to join together and serial execution continues."
   ]
  },
  {
   "cell_type": "markdown",
   "metadata": {
    "slideshow": {
     "slide_type": "slide"
    }
   },
   "source": [
    "## Threading in practise\n",
    "The number of threads Julia starts up with is controlled by an environment variable called `JULIA_NUM_THREADS`. Now, let's start up Julia with 4 threads:\n",
    "\n",
    "```bash\n",
    "export JULIA_NUM_THREADS=4\n",
    "julia\n",
    "```\n",
    "\n",
    "NOTE: this does not work in the notebook environment because the kernel is automatically loaded with only 1 thread."
   ]
  },
  {
   "cell_type": "code",
   "execution_count": 13,
   "metadata": {
    "slideshow": {
     "slide_type": "fragment"
    }
   },
   "outputs": [
    {
     "data": {
      "text/plain": [
       "1"
      ]
     },
     "execution_count": 13,
     "metadata": {},
     "output_type": "execute_result"
    }
   ],
   "source": [
    "using Base.Threads\n",
    "nthreads()"
   ]
  },
  {
   "cell_type": "markdown",
   "metadata": {
    "slideshow": {
     "slide_type": "slide"
    }
   },
   "source": [
    "## Using threads\n",
    "\n",
    "```julia\n",
    "@threads for id in 1:nthreads()\n",
    "    #each thread does something\n",
    "end\n",
    "```"
   ]
  },
  {
   "cell_type": "code",
   "execution_count": null,
   "metadata": {
    "slideshow": {
     "slide_type": "fragment"
    }
   },
   "outputs": [],
   "source": [
    "a = zeros(10)\n",
    "@threads for i = 1:10\n",
    "    a[i] = Threads.threadid()\n",
    "end\n",
    "a"
   ]
  },
  {
   "cell_type": "markdown",
   "metadata": {
    "slideshow": {
     "slide_type": "skip"
    }
   },
   "source": [
    "## Advanced: Threaded sum\n",
    "Here is a more complex example of threaded sum from https://github.com/stevengj/18S096/blob/master/lectures/lecture5/Parallelism.ipynb"
   ]
  },
  {
   "cell_type": "code",
   "execution_count": 16,
   "metadata": {
    "slideshow": {
     "slide_type": "skip"
    }
   },
   "outputs": [
    {
     "data": {
      "text/plain": [
       "threaded_sum (generic function with 1 method)"
      ]
     },
     "execution_count": 16,
     "metadata": {},
     "output_type": "execute_result"
    }
   ],
   "source": [
    "function threaded_sum(arr)\n",
    "   @assert length(arr) % nthreads() == 0\n",
    "    \n",
    "   let results = zeros(eltype(arr), nthreads())\n",
    "       @threads for tid in 1:nthreads()\n",
    "           # split work\n",
    "           acc = zero(eltype(arr))\n",
    "           len = div(length(arr), nthreads())\n",
    "           domain = ((tid-1)*len +1):tid*len\n",
    "           @inbounds for i in domain\n",
    "               acc += arr[i]    \n",
    "           end\n",
    "           results[tid] = acc\n",
    "       end\n",
    "       sum(results)\n",
    "   end\n",
    "end"
   ]
  },
  {
   "cell_type": "markdown",
   "metadata": {
    "slideshow": {
     "slide_type": "slide"
    }
   },
   "source": [
    "## Distributed computing \n",
    "Distributed processing uses individual processes that communicate with each other. In this case, data movement and communication is explicit!\n",
    "\n",
    "Julia supports various forms of distributed computing. \n",
    "- **A native master-worker system based on remote procedure calls**\n",
    "- MPI through [MPI.jl](https://github.com/JuliaParallel/MPI.jl)\n",
    "- [DistributedArrays.jl](https://github.com/JuliaParallel/DistributedArrays.jl)"
   ]
  },
  {
   "cell_type": "markdown",
   "metadata": {
    "slideshow": {
     "slide_type": "slide"
    }
   },
   "source": [
    "## Master-Worker model\n",
    "We need to launch Julia with \n",
    "```bash\n",
    "julia -p 4\n",
    "```\n",
    "then inside Julia you can check\n",
    "```julia\n",
    "nprocs()\n",
    "workers()\n",
    "```\n",
    "which should print `5` and `[2,3,4,5]`. \n",
    "\n",
    "Why 5, you ask? Because *\"worker 1\"* is the *\"boss\"*. And bosses don't work."
   ]
  },
  {
   "cell_type": "markdown",
   "metadata": {
    "slideshow": {
     "slide_type": "slide"
    }
   },
   "source": [
    "Functions (and everything used by workers) needs to be explicitly declared for all:\n",
    "```julia\n",
    "@everywhere g(x) = 2x\n",
    "```\n",
    "Only then can we send the job to somebody else and fetch the result\n",
    "```julia\n",
    "remotecall_fetch(g, 3, 2.0)\n",
    "```\n",
    "Here we fetch the result of `g` of worker `3` applied to a value of `2.0`."
   ]
  },
  {
   "cell_type": "markdown",
   "metadata": {
    "slideshow": {
     "slide_type": "slide"
    }
   },
   "source": [
    "Use `@everywhere` to execute a top-level block on each process\n",
    "```julia\n",
    "@everywhere begin\n",
    "    using Test\n",
    "    include(\"src.jl\")\n",
    "end\n",
    "```\n",
    "Define variables on all processes\n",
    "```julia\n",
    "@everywhere bar = 1\n",
    "```\n"
   ]
  },
  {
   "cell_type": "markdown",
   "metadata": {
    "slideshow": {
     "slide_type": "slide"
    }
   },
   "source": [
    "## `@distributed` as a shortcut \n",
    "A parallel for loop of the form (from `using Distributed`):\n",
    "```julia\n",
    "@distributed [reducer] for var = range\n",
    "    body\n",
    "end\n",
    "```\n",
    "The specified range is partitioned and locally executed across all workers. In case an optional reducer function is specified, `@distributed` performs local reductions on each worker with a final reduction on the calling process."
   ]
  },
  {
   "cell_type": "markdown",
   "metadata": {
    "slideshow": {
     "slide_type": "slide"
    }
   },
   "source": [
    "Note that without a reducer function, `@distributed` executes asynchronously, i.e., it spawns independent tasks on all available workers and returns immediately without waiting for completion. To wait for completion, prefix the call with `@sync`, like :\n",
    "```julia\n",
    "@sync @distributed for var = range\n",
    "      body\n",
    "end\n",
    "```"
   ]
  },
  {
   "cell_type": "code",
   "execution_count": null,
   "metadata": {
    "slideshow": {
     "slide_type": "slide"
    }
   },
   "outputs": [],
   "source": [
    "using Distributed\n",
    "\n",
    "nheads = @distributed (+) for i=1:200000000\n",
    "  Int(rand(Bool))\n",
    "end"
   ]
  },
  {
   "cell_type": "markdown",
   "metadata": {
    "slideshow": {
     "slide_type": "slide"
    }
   },
   "source": [
    "## pmap for unbalanced load\n",
    "In some cases no reduction operator is needed, and we merely wish to apply a function to all integers in some range. This is another useful operation called parallel map. \n",
    "\n",
    "For example, we could compute the singular values of several large random matrices in parallel as follows:"
   ]
  },
  {
   "cell_type": "code",
   "execution_count": 19,
   "metadata": {
    "slideshow": {
     "slide_type": "skip"
    }
   },
   "outputs": [],
   "source": [
    "using LinearAlgebra #loading svd()"
   ]
  },
  {
   "cell_type": "code",
   "execution_count": null,
   "metadata": {
    "slideshow": {
     "slide_type": "fragment"
    }
   },
   "outputs": [],
   "source": [
    "M = Matrix{Float64}[rand(1000,1000) for i=1:10]\n",
    "pmap(svd, M)"
   ]
  },
  {
   "cell_type": "markdown",
   "metadata": {
    "slideshow": {
     "slide_type": "fragment"
    }
   },
   "source": [
    "`pmap()` is designed for the case where each function call does a large amount of work. In contrast, `@distributed for` can handle situations where each iteration is tiny, perhaps merely summing two numbers."
   ]
  },
  {
   "cell_type": "markdown",
   "metadata": {
    "slideshow": {
     "slide_type": "slide"
    }
   },
   "source": [
    "## Summary: General optimization tricks\n",
    "\n",
    "- write functions!\n",
    "- Avoid global variables\n",
    "    - A global variable might have its value, (and type) change at any given point. This makes it hard for the compiler to optimize."
   ]
  }
 ],
 "metadata": {
  "celltoolbar": "Slideshow",
  "kernelspec": {
   "display_name": "Julia 1.0.3",
   "language": "julia",
   "name": "julia-1.0"
  },
  "language_info": {
   "file_extension": ".jl",
   "mimetype": "application/julia",
   "name": "julia",
   "version": "1.0.3"
  }
 },
 "nbformat": 4,
 "nbformat_minor": 2
}
